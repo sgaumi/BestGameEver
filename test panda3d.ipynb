{
 "cells": [
  {
   "cell_type": "code",
   "execution_count": 1,
   "id": "4486a035",
   "metadata": {},
   "outputs": [],
   "source": [
    "import panda3d as pd3d\n"
   ]
  },
  {
   "cell_type": "code",
   "execution_count": 2,
   "id": "cf0aa6cd",
   "metadata": {},
   "outputs": [],
   "source": [
    "from direct.gui.OnscreenText import OnscreenText\n",
    "textObject = OnscreenText(text='bestgame ever', pos=(-0.5, 0.02), scale=0.07)"
   ]
  },
  {
   "cell_type": "code",
   "execution_count": 3,
   "id": "1662964b",
   "metadata": {},
   "outputs": [
    {
     "ename": "SystemExit",
     "evalue": "",
     "output_type": "error",
     "traceback": [
      "An exception has occurred, use %tb to see the full traceback.\n",
      "\u001b[1;31mSystemExit\u001b[0m\n"
     ]
    },
    {
     "name": "stderr",
     "output_type": "stream",
     "text": [
      "C:\\ProgramData\\Anaconda3\\lib\\site-packages\\IPython\\core\\interactiveshell.py:3445: UserWarning: To exit: use 'exit', 'quit', or Ctrl-D.\n",
      "  warn(\"To exit: use 'exit', 'quit', or Ctrl-D.\", stacklevel=1)\n"
     ]
    }
   ],
   "source": [
    "from math import pi, sin, cos\n",
    "\n",
    "from direct.showbase.ShowBase import ShowBase\n",
    "from direct.task import Task\n",
    "from direct.actor.Actor import Actor\n",
    "from direct.interval.IntervalGlobal import Sequence\n",
    "from panda3d.core import Point3\n",
    "\n",
    "class MyApp(ShowBase):\n",
    "\n",
    "    def __init__(self):\n",
    "        ShowBase.__init__(self)\n",
    "        # Load the environment model.\n",
    "        self.scene = self.loader.loadModel(\"models/environment\")\n",
    "        # Reparent the model to render.\n",
    "        self.scene.reparentTo(self.render)\n",
    "        # Apply scale and position transforms on the model.\n",
    "        self.scene.setScale(0.25, 0.25, 0.25)\n",
    "        self.scene.setPos(-8, 42, 0)\n",
    "        \n",
    "        # Add the spinCameraTask procedure to the task manager.\n",
    "        self.taskMgr.add(self.spinCameraTask, \"SpinCameraTask\")\n",
    "        #self.taskMgr.add(self.spinCameraTask2, \"SpinCameraTask2\")\n",
    "        \n",
    "        # Load and transform the panda actor.\n",
    "        self.pandaActor = Actor(\"models/panda-model\",\n",
    "                                {\"walk\": \"models/panda-walk4\"})\n",
    "        self.pandaActor.setScale(0.01, 0.005, 0.005)\n",
    "        self.pandaActor.reparentTo(self.render)\n",
    "        # Loop its animation.\n",
    "        self.pandaActor.loop(\"walk\")\n",
    "        \n",
    "        # Create the four lerp intervals needed for the panda to\n",
    "        # walk back and forth.\n",
    "        posInterval1 = self.pandaActor.posInterval(1,\n",
    "                                                   Point3(0, -10, 0),\n",
    "                                                   startPos=Point3(0, 10, 0))\n",
    "        posInterval2 = self.pandaActor.posInterval(1,\n",
    "                                                   Point3(0, 10, 0),\n",
    "                                                   startPos=Point3(0, -10, 10))\n",
    "        hprInterval1 = self.pandaActor.hprInterval(1,\n",
    "                                                   Point3(180, 0, 100),\n",
    "                                                   startHpr=Point3(180, 30, 150))\n",
    "        hprInterval2 = self.pandaActor.hprInterval(1,\n",
    "                                                   Point3(0, 100, 0),\n",
    "                                                   startHpr=Point3(180, 0, -120))\n",
    "\n",
    "        # Create and play the sequence that coordinates the intervals.\n",
    "        self.pandaPace = Sequence(posInterval1, hprInterval1,\n",
    "                                  posInterval2, hprInterval2,\n",
    "                                  name=\"pandaPace\")\n",
    "        self.pandaPace.loop()\n",
    "\n",
    "    # Define a procedure to move the camera.\n",
    "    def spinCameraTask(self, task):\n",
    "        angleDegrees = task.time * 6.0\n",
    "        angleRadians = angleDegrees * (pi / 180.0)\n",
    "        self.camera.setPos(20 * sin(angleRadians), -20 * cos(angleRadians), 3)\n",
    "        self.camera.setHpr(angleDegrees, 0, 0)\n",
    "        return Task.cont\n",
    "    \n",
    "    def spinCameraTask2(self, task):\n",
    "        angleDegrees = task.time * 6.0\n",
    "        angleRadians = angleDegrees * (pi / 180.0)\n",
    "        self.camera.setPos(20 * sin(angleRadians), -20 * cos(angleRadians), 3)\n",
    "        self.camera.setHpr(0, angleDegrees, 0)\n",
    "        return Task.cont\n",
    "\n",
    "\n",
    "app = MyApp()\n",
    "app.run()"
   ]
  },
  {
   "cell_type": "code",
   "execution_count": null,
   "id": "0a24acb3",
   "metadata": {},
   "outputs": [],
   "source": [
    "app.destroy()\n",
    "app.run()"
   ]
  },
  {
   "cell_type": "code",
   "execution_count": null,
   "id": "87bbe7b9",
   "metadata": {},
   "outputs": [],
   "source": [
    "def abab(a=10):\n",
    "    "
   ]
  }
 ],
 "metadata": {
  "kernelspec": {
   "display_name": "Python 3",
   "language": "python",
   "name": "python3"
  },
  "language_info": {
   "codemirror_mode": {
    "name": "ipython",
    "version": 3
   },
   "file_extension": ".py",
   "mimetype": "text/x-python",
   "name": "python",
   "nbconvert_exporter": "python",
   "pygments_lexer": "ipython3",
   "version": "3.8.8"
  }
 },
 "nbformat": 4,
 "nbformat_minor": 5
}
